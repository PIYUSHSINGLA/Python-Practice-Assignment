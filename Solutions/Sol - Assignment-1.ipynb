{
 "cells": [
  {
   "cell_type": "markdown",
   "metadata": {},
   "source": [
    "### ___Python Assignment 1 - Solution___"
   ]
  },
  {
   "cell_type": "markdown",
   "metadata": {},
   "source": [
    "#### ___Task 1___"
   ]
  },
  {
   "cell_type": "code",
   "execution_count": 1,
   "metadata": {},
   "outputs": [
    {
     "name": "stdout",
     "output_type": "stream",
     "text": [
      "Hello! World\n"
     ]
    }
   ],
   "source": [
    "# First Program\n",
    "print('Hello! World')"
   ]
  },
  {
   "cell_type": "code",
   "execution_count": 2,
   "metadata": {},
   "outputs": [],
   "source": [
    "# Solution 1\n",
    "# Link not accessible so attaching the screen "
   ]
  },
  {
   "attachments": {
    "image.png": {
     "image/png": "[encoded data removed]"
    }
   },
   "cell_type": "markdown",
   "metadata": {},
   "source": [
    "![image.png](attachment:image.png)"
   ]
  },
  {
   "cell_type": "code",
   "execution_count": 3,
   "metadata": {},
   "outputs": [
    {
     "name": "stdout",
     "output_type": "stream",
     "text": [
      "[2002, 2009, 2016, 2023, 2037, 2044, 2051, 2058, 2072, 2079, 2086, 2093, 2107, 2114, 2121, 2128, 2142, 2149, 2156, 2163, 2177, 2184, 2191, 2198, 2212, 2219, 2226, 2233, 2247, 2254, 2261, 2268, 2282, 2289, 2296, 2303, 2317, 2324, 2331, 2338, 2352, 2359, 2366, 2373, 2387, 2394, 2401, 2408, 2422, 2429, 2436, 2443, 2457, 2464, 2471, 2478, 2492, 2499, 2506, 2513, 2527, 2534, 2541, 2548, 2562, 2569, 2576, 2583, 2597, 2604, 2611, 2618, 2632, 2639, 2646, 2653, 2667, 2674, 2681, 2688, 2702, 2709, 2716, 2723, 2737, 2744, 2751, 2758, 2772, 2779, 2786, 2793, 2807, 2814, 2821, 2828, 2842, 2849, 2856, 2863, 2877, 2884, 2891, 2898, 2912, 2919, 2926, 2933, 2947, 2954, 2961, 2968, 2982, 2989, 2996, 3003, 3017, 3024, 3031, 3038, 3052, 3059, 3066, 3073, 3087, 3094, 3101, 3108, 3122, 3129, 3136, 3143, 3157, 3164, 3171, 3178, 3192, 3199]\n"
     ]
    }
   ],
   "source": [
    "# Solution 2\n",
    "number_List = list(range(2000,3201))\n",
    "selected_List = []\n",
    "\n",
    "for i in number_List:\n",
    "    if((i%7 ==0) & (i%5 !=0)):\n",
    "        selected_List.append(i)\n",
    "   \n",
    "print(selected_List)"
   ]
  },
  {
   "cell_type": "code",
   "execution_count": 4,
   "metadata": {},
   "outputs": [
    {
     "name": "stdout",
     "output_type": "stream",
     "text": [
      "Enter First NamePiyush\n",
      "Enter Last NameSingla\n",
      "['Singla', ' ', 'Piyush']\n",
      "Singla Piyush\n",
      "algniS hsuyiP\n"
     ]
    }
   ],
   "source": [
    "# Solution 3\n",
    "f_name = input(\"Enter First Name\")\n",
    "if type(f_name) != str:\n",
    "    print (\"Please Enter in string format\")\n",
    "    \n",
    "l_name = input(\"Enter Last Name\")\n",
    "if type(l_name) != str:\n",
    "    print (\"Please Enter in string format\")\n",
    "    \n",
    "name_list = [f_name,' ',l_name] \n",
    "\n",
    "print(name_list[::-1])\n",
    "\n",
    "print (l_name + \" \" + f_name)\n",
    "\n",
    "print(' '.join([f_name,l_name])[::-1])\n"
   ]
  },
  {
   "cell_type": "code",
   "execution_count": 5,
   "metadata": {},
   "outputs": [
    {
     "name": "stdout",
     "output_type": "stream",
     "text": [
      "Area of Sphere: 904.78\n"
     ]
    }
   ],
   "source": [
    "# Solution 4\n",
    "\n",
    "import math\n",
    "diameter = 12\n",
    "radius = diameter/2\n",
    "\n",
    "Area = 4/3* math.pi* radius*radius*radius\n",
    "\n",
    "print('Area of Sphere:', round(Area,2))"
   ]
  },
  {
   "cell_type": "markdown",
   "metadata": {},
   "source": [
    "#### ___Task 2___"
   ]
  },
  {
   "cell_type": "code",
   "execution_count": 6,
   "metadata": {},
   "outputs": [
    {
     "name": "stdout",
     "output_type": "stream",
     "text": [
      "Enter numbers with comma: 1,2,3,4,5,6,7,8\n",
      "['1', '2', '3', '4', '5', '6', '7', '8']\n"
     ]
    }
   ],
   "source": [
    "# Solution 1\n",
    "\n",
    "usr_val = input('Enter numbers with comma: ')\n",
    "list_val = usr_val.split(',')\n",
    "print(list_val)"
   ]
  },
  {
   "cell_type": "code",
   "execution_count": 7,
   "metadata": {},
   "outputs": [
    {
     "name": "stdout",
     "output_type": "stream",
     "text": [
      "*  \r\n",
      "* *  \r\n",
      "* * *  \r\n",
      "* * * *  \r\n",
      "* * *  \r\n",
      "* *  \r\n",
      "*  \r\n"
     ]
    }
   ],
   "source": [
    "# Solution 2\n",
    "\n",
    "for i in range(0,4):\n",
    "    i = i+1\n",
    "    print('* '*i, end = ' ')\n",
    "    print('\\r')\n",
    "for i in range(4,1,-1):\n",
    "    i = i-1\n",
    "    print('* '*i, end = ' ')\n",
    "    print('\\r')"
   ]
  },
  {
   "cell_type": "code",
   "execution_count": 8,
   "metadata": {},
   "outputs": [
    {
     "name": "stdout",
     "output_type": "stream",
     "text": [
      "Enter a string: AcadGild\n",
      "Output: dliGdacA\n"
     ]
    }
   ],
   "source": [
    "# Solution 3\n",
    "\n",
    "user = input('Enter a string: ')\n",
    "print('Output:', user[::-1])"
   ]
  },
  {
   "cell_type": "code",
   "execution_count": 9,
   "metadata": {},
   "outputs": [
    {
     "name": "stdout",
     "output_type": "stream",
     "text": [
      "WE, THE PEOPLE OF INDIA, \n",
      "\thaving solemnly resolved to constitute India into a SOVEREIGN, \n",
      "\t\tSOCIALIST, SECULAR, DEMOCRATIC REPUBLIC \n",
      "\t\tand to secure to all its citizens\n"
     ]
    }
   ],
   "source": [
    "# Solution 4\n",
    "\n",
    "user_String = 'WE, THE PEOPLE OF INDIA, \\n\\thaving solemnly resolved to constitute India into a SOVEREIGN, \\n\\t\\tSOCIALIST, SECULAR, DEMOCRATIC REPUBLIC \\n\\t\\tand to secure to all its citizens'\n",
    "print(user_String)\n"
   ]
  }
 ],
 "metadata": {
  "kernelspec": {
   "display_name": "Python 3",
   "language": "python",
   "name": "python3"
  },
  "language_info": {
   "codemirror_mode": {
    "name": "ipython",
    "version": 3
   },
   "file_extension": ".py",
   "mimetype": "text/x-python",
   "name": "python",
   "nbconvert_exporter": "python",
   "pygments_lexer": "ipython3",
   "version": "3.7.6"
  }
 },
 "nbformat": 4,
 "nbformat_minor": 4
}
